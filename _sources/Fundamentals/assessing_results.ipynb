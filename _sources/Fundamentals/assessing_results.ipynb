{
 "cells": [
  {
   "attachments": {},
   "cell_type": "markdown",
   "metadata": {},
   "source": [
    "# Chapter 0.2: Assessing Results"
   ]
  },
  {
   "cell_type": "code",
   "execution_count": null,
   "metadata": {},
   "outputs": [],
   "source": []
  },
  {
   "attachments": {},
   "cell_type": "markdown",
   "metadata": {},
   "source": [
    "TO COME: \n",
    "- Evaluation metrics (accuracy, precision, recall, F1-score)\n",
    "- Cross-validation and model selection\n",
    "- Bias and fairness in evaluation"
   ]
  },
  {
   "attachments": {},
   "cell_type": "markdown",
   "metadata": {},
   "source": [
    "## Section 1: Environment Setup\n",
    "\n",
    "Before we can evaluate the performance of a machine learning model, we need to set up our environment with the necessary libraries and tools. Here are some commonly used Python libraries for machine learning:\n",
    "\n",
    "- Scikit-learn: A popular library for machine learning in Python, with support for a variety of models and evaluation metrics.\n",
    "- TensorFlow: A powerful library for deep learning, with support for building and training complex neural networks.\n",
    "- PyTorch: Another popular library for deep learning, with a user-friendly interface and support for dynamic computation graphs.\n",
    "Here's an example code for installing Scikit-learn and importing it in Python:"
   ]
  },
  {
   "cell_type": "code",
   "execution_count": null,
   "metadata": {},
   "outputs": [],
   "source": []
  },
  {
   "attachments": {},
   "cell_type": "markdown",
   "metadata": {},
   "source": [
    "## Section 2: Evaluation Metrics\n",
    "\n",
    "In machine learning, evaluation metrics are used to assess the performance of a model on a given dataset. Evaluation metrics can be broadly classified into two categories: classification metrics and regression metrics.\n",
    "\n",
    "2.1 Classification Metrics\n",
    "\n",
    "Classification is a supervised learning task in which the goal is to assign input data points to one of several discrete categories. Examples include spam detection, image classification, and sentiment analysis.\n",
    "\n",
    "The most commonly used classification metrics are accuracy, precision, recall, and F1-score. Let's define these metrics mathematically:\n",
    "\n",
    "Accuracy measures the proportion of correct predictions among all predictions. It is defined as:\n",
    "$$\n",
    "Accuracy = \\frac{TP+TN}{TP+TN+FP+FN}\n",
    "$$ \n",
    "where TP is the number of true positives, TN is the number of true negatives, FP is the number of false positives, and FN is the number of false negatives.\n",
    "\n",
    "Precision measures the proportion of true positives among all positive predictions. It is defined as:\n",
    "$$\n",
    "Precision = \\frac{TP}{TP+FP}\n",
    "$$\n",
    "\n",
    "Recall measures the proportion of true positives among all actual positives. It is defined as:\n",
    "$$\n",
    "Recall = \\frac{TP}{TP+FN}\n",
    "$$\n",
    "\n",
    "F1-score is a weighted average of precision and recall, which balances the trade-off between them. It is defined as:\n",
    "$$\n",
    "F1\\text{-}score = 2\\times\\frac{Precision\\times Recall}{Precision+Recall}\n",
    "$$\n",
    "\n",
    "We can use Python libraries such as Scikit-learn to compute these evaluation metrics for our classification models. Here's an example code for computing accuracy, precision, recall, and F1-score for a binary classification model:"
   ]
  },
  {
   "cell_type": "code",
   "execution_count": null,
   "metadata": {},
   "outputs": [],
   "source": [
    "from sklearn.metrics import accuracy_score, precision_score, recall_score, f1_score\n",
    "y_true = [0, 1, 1, 0, 1, 0]\n",
    "y_pred = [0, 1, 0, 0, 1, 1]\n",
    "print(\"Accuracy:\", accuracy_score(y_true, y_pred))\n",
    "print(\"Precision:\", precision_score(y_true, y_pred))\n",
    "print(\"Recall:\", recall_score(y_true, y_pred))\n",
    "print(\"F1-score:\", f1_score(y_true, y_pred))"
   ]
  },
  {
   "attachments": {},
   "cell_type": "markdown",
   "metadata": {},
   "source": [
    "In addition to these metrics, we may also need to compute regression metrics such as mean squared error or classification metrics such as area under the curve. We can use Scikit-learn to compute these metrics as well. Here's an example code for computing mean squared error for a regression model:"
   ]
  },
  {
   "cell_type": "code",
   "execution_count": null,
   "metadata": {},
   "outputs": [],
   "source": [
    "from sklearn.metrics import mean_squared_error\n",
    "y_true = [3, 5, 2, 7, 8]\n",
    "y_pred = [2, 4, 3, 8, 6]\n",
    "print(\"Mean squared error:\", mean_squared_error(y_true, y_pred))"
   ]
  },
  {
   "attachments": {},
   "cell_type": "markdown",
   "metadata": {},
   "source": [
    "By using these evaluation metrics, we can measure the performance of our machine learning models and compare them against each other."
   ]
  }
 ],
 "metadata": {
  "language_info": {
   "name": "python"
  },
  "orig_nbformat": 4
 },
 "nbformat": 4,
 "nbformat_minor": 2
}
